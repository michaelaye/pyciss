{
 "cells": [
  {
   "cell_type": "markdown",
   "metadata": {
    "toc": true
   },
   "source": [
    "<h1>Table of Contents<span class=\"tocSkip\"></span></h1>\n",
    "<div class=\"toc\"><ul class=\"toc-item\"></ul></div>"
   ]
  },
  {
   "cell_type": "code",
   "execution_count": 16,
   "metadata": {
    "ExecuteTime": {
     "end_time": "2018-08-16T22:40:58.027884Z",
     "start_time": "2018-08-16T22:40:57.987907Z"
    }
   },
   "outputs": [],
   "source": [
    "from pyciss import opusapi, io\n",
    "# from pytest import tmpdir\n",
    "\n",
    "opus = opusapi.OPUS()"
   ]
  },
  {
   "cell_type": "code",
   "execution_count": 12,
   "metadata": {
    "ExecuteTime": {
     "end_time": "2018-08-16T22:37:46.630072Z",
     "start_time": "2018-08-16T22:37:46.557747Z"
    }
   },
   "outputs": [],
   "source": [
    "img_id = 'N1875229393'\n",
    "# img_id = 'N1695760475'"
   ]
  },
  {
   "cell_type": "code",
   "execution_count": 18,
   "metadata": {
    "ExecuteTime": {
     "end_time": "2018-08-16T22:51:32.112266Z",
     "start_time": "2018-08-16T22:51:31.813379Z"
    }
   },
   "outputs": [],
   "source": [
    "from pyciss.downloader import download_and_calibrate"
   ]
  },
  {
   "cell_type": "code",
   "execution_count": 20,
   "metadata": {
    "ExecuteTime": {
     "end_time": "2018-08-16T22:55:10.961705Z",
     "start_time": "2018-08-16T22:52:42.166596Z"
    }
   },
   "outputs": [],
   "source": [
    "download_and_calibrate(img_id)"
   ]
  },
  {
   "cell_type": "code",
   "execution_count": 14,
   "metadata": {
    "ExecuteTime": {
     "end_time": "2018-08-16T22:37:53.312487Z",
     "start_time": "2018-08-16T22:37:53.017942Z"
    }
   },
   "outputs": [
    {
     "name": "stdout",
     "output_type": "stream",
     "text": [
      "Found 1 obsids.\n"
     ]
    },
    {
     "data": {
      "text/plain": [
       "Raw:\n",
       "Label:\n",
       "https://pds-rings.seti.org/holdings/volumes/COISS_2xxx/COISS_2113/data/1875228144_1875491141/N1875229393_1.LBL\n",
       "Image:\n",
       "https://pds-rings.seti.org/holdings/volumes/COISS_2xxx/COISS_2113/data/1875228144_1875491141/N1875229393_1.IMG\n",
       "Calibrated:\n",
       "Label:\n",
       "https://pds-rings.seti.org/holdings/calibrated/COISS_2xxx/COISS_2113/data/1875228144_1875491141/N1875229393_1_CALIB.LBL\n",
       "Image:\n",
       "https://pds-rings.seti.org/holdings/calibrated/COISS_2xxx/COISS_2113/data/1875228144_1875491141/N1875229393_1_CALIB.IMG"
      ]
     },
     "execution_count": 14,
     "metadata": {},
     "output_type": "execute_result"
    }
   ],
   "source": [
    "opus.query_image_id(img_id)[0]"
   ]
  },
  {
   "cell_type": "code",
   "execution_count": 15,
   "metadata": {
    "ExecuteTime": {
     "end_time": "2018-08-16T22:39:58.688515Z",
     "start_time": "2018-08-16T22:38:03.615802Z"
    }
   },
   "outputs": [
    {
     "name": "stdout",
     "output_type": "stream",
     "text": [
      "Downloading N1875229393_1.IMG\n",
      "Downloading N1875229393_1.LBL\n",
      "Downloading N1875229393_1_CALIB.IMG\n",
      "Downloading N1875229393_1_CALIB.LBL\n"
     ]
    },
    {
     "data": {
      "text/plain": [
       "'/Volumes/USB128II/ciss/db/N1875229393'"
      ]
     },
     "execution_count": 15,
     "metadata": {},
     "output_type": "execute_result"
    }
   ],
   "source": [
    "opus.download_results(calib=True)"
   ]
  },
  {
   "cell_type": "code",
   "execution_count": 17,
   "metadata": {
    "ExecuteTime": {
     "end_time": "2018-08-16T22:41:08.186176Z",
     "start_time": "2018-08-16T22:41:08.122578Z"
    }
   },
   "outputs": [
    {
     "data": {
      "text/plain": [
       "cal_cub: /Volumes/USB128II/ciss/db/N1875229393/N1875229393_1.cal.cub\n",
       "calib_img: /Volumes/USB128II/ciss/db/N1875229393/N1875229393_1_CALIB.IMG\n",
       "calib_label: /Volumes/USB128II/ciss/db/N1875229393/N1875229393_1_CALIB.LBL\n",
       "cubepath: /Volumes/USB128II/ciss/db/N1875229393/N1875229393_1.cal.dst.map.cub\n",
       "dst_cub: /Volumes/USB128II/ciss/db/N1875229393/N1875229393_1.cal.dst.cub\n",
       "raw_cub: /Volumes/USB128II/ciss/db/N1875229393/N1875229393_1.cub\n",
       "raw_image: /Volumes/USB128II/ciss/db/N1875229393/N1875229393_1.IMG\n",
       "raw_label: /Volumes/USB128II/ciss/db/N1875229393/N1875229393_1.LBL\n",
       "tif: /Volumes/USB128II/ciss/db/N1875229393/N1875229393_1.cal.dst.map.tif\n",
       "undestriped: /Volumes/USB128II/ciss/db/N1875229393/N1875229393_1.cal.map.cub"
      ]
     },
     "execution_count": 17,
     "metadata": {},
     "output_type": "execute_result"
    }
   ],
   "source": [
    "io.PathManager(img_id)"
   ]
  },
  {
   "cell_type": "code",
   "execution_count": 9,
   "metadata": {
    "ExecuteTime": {
     "end_time": "2018-08-14T16:17:29.577820Z",
     "start_time": "2018-08-14T16:17:29.536554Z"
    }
   },
   "outputs": [
    {
     "data": {
      "text/plain": [
       "'https://pds-rings.seti.org/holdings/browse/COISS_2xxx/COISS_2113/data/1875228144_1875491141/N1875229393_1_small.jpg'"
      ]
     },
     "execution_count": 9,
     "metadata": {},
     "output_type": "execute_result"
    }
   ],
   "source": [
    "opus.obsids[0].small_img_url"
   ]
  },
  {
   "cell_type": "markdown",
   "metadata": {},
   "source": [
    "https://tools.pds-rings.seti.org/opus/#/target=S+Rings&instrument=Cassini+ISS&COISScamera=Narrow+Angle&RINGGEOprojectedradialresolution1=&RINGGEOprojectedradialresolution2=1&RINGGEOringradius1=75000&RINGGEOringradius2=92000&view=search&browse=gallery&colls_browse=gallery&page=1&gallery_data_viewer=true&limit=100&order=time1&cols=opusid,instrumentid,planet,target,time1,observationduration&widgets=RINGGEOringradius1,RINGGEOprojectedradialresolution1,COISScamera,instrument,planet,target&widgets2=&detail="
   ]
  },
  {
   "cell_type": "code",
   "execution_count": 4,
   "metadata": {
    "ExecuteTime": {
     "end_time": "2018-08-14T16:00:41.645594Z",
     "start_time": "2018-08-14T16:00:41.222077Z"
    }
   },
   "outputs": [],
   "source": [
    "url = 'https://tools.pds-rings.seti.org/opus/#/target=S+Rings&instrument=Cassini+ISS&COISScamera=Narrow+Angle&RINGGEOprojectedradialresolution1=&RINGGEOprojectedradialresolution2=1&RINGGEOringradius1=75000&RINGGEOringradius2=92000&view=search&browse=gallery&colls_browse=gallery&page=1&gallery_data_viewer=true&limit=100&order=time1&cols=opusid,instrumentid,planet,target,time1,observationduration&widgets=RINGGEOringradius1,RINGGEOprojectedradialresolution1,COISScamera,instrument,planet,target&widgets2=&detail='"
   ]
  },
  {
   "cell_type": "code",
   "execution_count": 5,
   "metadata": {
    "ExecuteTime": {
     "end_time": "2018-08-14T16:00:49.627697Z",
     "start_time": "2018-08-14T16:00:49.578378Z"
    }
   },
   "outputs": [
    {
     "data": {
      "text/plain": [
       "['https://tools.pds-rings.seti.org/opus/#/target=S+Rings',\n",
       " 'instrument=Cassini+ISS',\n",
       " 'COISScamera=Narrow+Angle',\n",
       " 'RINGGEOprojectedradialresolution1=',\n",
       " 'RINGGEOprojectedradialresolution2=1',\n",
       " 'RINGGEOringradius1=75000',\n",
       " 'RINGGEOringradius2=92000',\n",
       " 'view=search',\n",
       " 'browse=gallery',\n",
       " 'colls_browse=gallery',\n",
       " 'page=1',\n",
       " 'gallery_data_viewer=true',\n",
       " 'limit=100',\n",
       " 'order=time1',\n",
       " 'cols=opusid,instrumentid,planet,target,time1,observationduration',\n",
       " 'widgets=RINGGEOringradius1,RINGGEOprojectedradialresolution1,COISScamera,instrument,planet,target',\n",
       " 'widgets2=',\n",
       " 'detail=']"
      ]
     },
     "execution_count": 5,
     "metadata": {},
     "output_type": "execute_result"
    }
   ],
   "source": [
    "url.split('&')"
   ]
  },
  {
   "cell_type": "code",
   "execution_count": 15,
   "metadata": {
    "ExecuteTime": {
     "end_time": "2018-08-10T19:58:11.515835Z",
     "start_time": "2018-08-10T19:58:11.491505Z"
    }
   },
   "outputs": [],
   "source": [
    "from pyciss.downloader import download_and_calibrate"
   ]
  },
  {
   "cell_type": "code",
   "execution_count": 16,
   "metadata": {
    "ExecuteTime": {
     "end_time": "2018-08-10T19:58:12.152944Z",
     "start_time": "2018-08-10T19:58:12.124344Z"
    }
   },
   "outputs": [
    {
     "data": {
      "text/plain": [
       "'N1875229393_1'"
      ]
     },
     "execution_count": 16,
     "metadata": {},
     "output_type": "execute_result"
    }
   ],
   "source": [
    "img_id"
   ]
  },
  {
   "cell_type": "code",
   "execution_count": 17,
   "metadata": {
    "ExecuteTime": {
     "end_time": "2018-08-10T19:58:14.037789Z",
     "start_time": "2018-08-10T19:58:14.012173Z"
    }
   },
   "outputs": [
    {
     "data": {
      "text/plain": [
       "'N1875229393_1'"
      ]
     },
     "execution_count": 17,
     "metadata": {},
     "output_type": "execute_result"
    }
   ],
   "source": [
    "opus.obsids[0].img_id"
   ]
  },
  {
   "cell_type": "code",
   "execution_count": 20,
   "metadata": {
    "ExecuteTime": {
     "end_time": "2018-08-10T20:01:33.813834Z",
     "start_time": "2018-08-10T19:59:02.379112Z"
    }
   },
   "outputs": [],
   "source": [
    "download_and_calibrate(img_id)"
   ]
  },
  {
   "cell_type": "code",
   "execution_count": 20,
   "metadata": {
    "ExecuteTime": {
     "end_time": "2018-07-28T23:48:37.448179Z",
     "start_time": "2018-07-28T23:48:37.397243Z"
    }
   },
   "outputs": [],
   "source": [
    "import requests"
   ]
  },
  {
   "cell_type": "code",
   "execution_count": null,
   "metadata": {},
   "outputs": [],
   "source": []
  },
  {
   "cell_type": "code",
   "execution_count": 16,
   "metadata": {
    "ExecuteTime": {
     "end_time": "2018-07-28T23:45:58.633891Z",
     "start_time": "2018-07-28T23:45:58.592497Z"
    }
   },
   "outputs": [
    {
     "data": {
      "text/plain": [
       "'https://tools.pds-rings.seti.org/opus/api'"
      ]
     },
     "execution_count": 16,
     "metadata": {},
     "output_type": "execute_result"
    }
   ],
   "source": [
    "opusapi.base_url"
   ]
  },
  {
   "cell_type": "code",
   "execution_count": 11,
   "metadata": {},
   "outputs": [
    {
     "data": {
      "text/plain": [
       "pyciss.opusapi.OPUSObsID"
      ]
     },
     "execution_count": 11,
     "metadata": {},
     "output_type": "execute_result"
    }
   ],
   "source": [
    "type(opus.obsids[0])"
   ]
  },
  {
   "cell_type": "code",
   "execution_count": 19,
   "metadata": {},
   "outputs": [],
   "source": [
    "def test_download_results():\n",
    "    opus.download_results(savedir=tmpdir.name)\n",
    "    assert (Path(tmpdir.name) / 'N1695760475' / 'N1695760475_1.IMG').exists()\n",
    "    assert (Path(tmpdir.name) / 'N1695760475' / 'N1695760475_1.LBL').exists()"
   ]
  },
  {
   "cell_type": "code",
   "execution_count": 20,
   "metadata": {},
   "outputs": [
    {
     "ename": "NameError",
     "evalue": "name 'tmpdir' is not defined",
     "output_type": "error",
     "traceback": [
      "\u001b[0;31m---------------------------------------------------------------------------\u001b[0m",
      "\u001b[0;31mNameError\u001b[0m                                 Traceback (most recent call last)",
      "\u001b[0;32m<ipython-input-20-72727033bbee>\u001b[0m in \u001b[0;36m<module>\u001b[0;34m()\u001b[0m\n\u001b[0;32m----> 1\u001b[0;31m \u001b[0mtest_download_results\u001b[0m\u001b[0;34m(\u001b[0m\u001b[0;34m)\u001b[0m\u001b[0;34m\u001b[0m\u001b[0m\n\u001b[0m",
      "\u001b[0;32m<ipython-input-19-913c9fe58d90>\u001b[0m in \u001b[0;36mtest_download_results\u001b[0;34m()\u001b[0m\n\u001b[1;32m      1\u001b[0m \u001b[0;32mdef\u001b[0m \u001b[0mtest_download_results\u001b[0m\u001b[0;34m(\u001b[0m\u001b[0;34m)\u001b[0m\u001b[0;34m:\u001b[0m\u001b[0;34m\u001b[0m\u001b[0m\n\u001b[0;32m----> 2\u001b[0;31m     \u001b[0mopus\u001b[0m\u001b[0;34m.\u001b[0m\u001b[0mdownload_results\u001b[0m\u001b[0;34m(\u001b[0m\u001b[0msavedir\u001b[0m\u001b[0;34m=\u001b[0m\u001b[0mtmpdir\u001b[0m\u001b[0;34m.\u001b[0m\u001b[0mname\u001b[0m\u001b[0;34m)\u001b[0m\u001b[0;34m\u001b[0m\u001b[0m\n\u001b[0m\u001b[1;32m      3\u001b[0m     \u001b[0;32massert\u001b[0m \u001b[0;34m(\u001b[0m\u001b[0mPath\u001b[0m\u001b[0;34m(\u001b[0m\u001b[0mtmpdir\u001b[0m\u001b[0;34m.\u001b[0m\u001b[0mname\u001b[0m\u001b[0;34m)\u001b[0m \u001b[0;34m/\u001b[0m \u001b[0;34m'N1695760475'\u001b[0m \u001b[0;34m/\u001b[0m \u001b[0;34m'N1695760475_1.IMG'\u001b[0m\u001b[0;34m)\u001b[0m\u001b[0;34m.\u001b[0m\u001b[0mexists\u001b[0m\u001b[0;34m(\u001b[0m\u001b[0;34m)\u001b[0m\u001b[0;34m\u001b[0m\u001b[0m\n\u001b[1;32m      4\u001b[0m     \u001b[0;32massert\u001b[0m \u001b[0;34m(\u001b[0m\u001b[0mPath\u001b[0m\u001b[0;34m(\u001b[0m\u001b[0mtmpdir\u001b[0m\u001b[0;34m.\u001b[0m\u001b[0mname\u001b[0m\u001b[0;34m)\u001b[0m \u001b[0;34m/\u001b[0m \u001b[0;34m'N1695760475'\u001b[0m \u001b[0;34m/\u001b[0m \u001b[0;34m'N1695760475_1.LBL'\u001b[0m\u001b[0;34m)\u001b[0m\u001b[0;34m.\u001b[0m\u001b[0mexists\u001b[0m\u001b[0;34m(\u001b[0m\u001b[0;34m)\u001b[0m\u001b[0;34m\u001b[0m\u001b[0m\n",
      "\u001b[0;31mNameError\u001b[0m: name 'tmpdir' is not defined"
     ]
    }
   ],
   "source": [
    "test_download_results()"
   ]
  },
  {
   "cell_type": "code",
   "execution_count": 4,
   "metadata": {},
   "outputs": [
    {
     "name": "stdout",
     "output_type": "stream",
     "text": [
      "Downloading N1695760475_1_med.jpg\n"
     ]
    }
   ],
   "source": [
    "# test_download_previews\n",
    "opus.download_previews(savedir=tmpdir.name)\n",
    "assert (Path(tmpdir.name) / 'N1695760475' / 'N1695760475_1_med.jpg').exists()"
   ]
  },
  {
   "cell_type": "code",
   "execution_count": 9,
   "metadata": {},
   "outputs": [
    {
     "name": "stdout",
     "output_type": "stream",
     "text": [
      "Requesting http://tools.pds-rings.seti.org/opus/api/metadata/S_IMG_CO_ISS_1695760475_N.json\n"
     ]
    }
   ],
   "source": [
    "# test_get_metadata\n",
    "meta = opus.get_metadata(opus.obsids[0])\n",
    "assert meta.image['duration'] == 38.0\n",
    "assert 'emission1' in meta.surface_geom\n",
    "assert meta.general['declination1'] == 3.556135\n",
    "assert meta.iss['GAIN_MODE_ID'] == '29 ELECTRONS PER DN'"
   ]
  },
  {
   "cell_type": "code",
   "execution_count": 10,
   "metadata": {},
   "outputs": [
    {
     "name": "stdout",
     "output_type": "stream",
     "text": [
      "Found 7 obsids.\n"
     ]
    }
   ],
   "source": [
    "# test_get_between_times_strings\n",
    "opus.get_between_times('2005-10-10:00:00:00', '2005-10-11:00:00:00')\n",
    "# this should find 7 items\n",
    "assert len(opus.obsids) == 7"
   ]
  },
  {
   "cell_type": "code",
   "execution_count": 11,
   "metadata": {},
   "outputs": [
    {
     "name": "stdout",
     "output_type": "stream",
     "text": [
      "Found 12 obsids.\n"
     ]
    }
   ],
   "source": [
    "# test_get_between_times_datetimes\n",
    "import datetime as dt\n",
    "t1 = dt.datetime(2005, 10, 9)\n",
    "t2 = dt.datetime(2005, 10, 10)\n",
    "opus.get_between_times(t1, t2)\n",
    "assert len(opus.obsids) == 12"
   ]
  },
  {
   "cell_type": "code",
   "execution_count": 12,
   "metadata": {
    "collapsed": true
   },
   "outputs": [],
   "source": [
    "# test_get_radial_res_query\n",
    "d = opus.get_radial_res_query(0.1, 0.2)\n",
    "assert isinstance(d, dict)\n",
    "assert d['instrumentid'] == 'Cassini+ISS'\n",
    "assert d['projectedradialresolution1'] == 0.1\n",
    "assert d['projectedradialresolution2'] == 0.2\n",
    "assert d['target'] == 'S+RINGS'"
   ]
  },
  {
   "cell_type": "code",
   "execution_count": 14,
   "metadata": {},
   "outputs": [
    {
     "name": "stdout",
     "output_type": "stream",
     "text": [
      "Found 90 obsids.\n"
     ]
    }
   ],
   "source": [
    "# test_get_between_resolutions\n",
    "opus.get_between_resolutions(0.1,0.5)\n",
    "# should find 89 items\n",
    "assert len(opus.obsids) == 90"
   ]
  },
  {
   "cell_type": "code",
   "execution_count": 15,
   "metadata": {
    "collapsed": true
   },
   "outputs": [],
   "source": [
    "# cleanup\n",
    "tmpdir.cleanup()"
   ]
  }
 ],
 "metadata": {
  "kernelspec": {
   "display_name": "Python [conda env:py36]",
   "language": "python",
   "name": "conda-env-py36-py"
  },
  "language_info": {
   "codemirror_mode": {
    "name": "ipython",
    "version": 3
   },
   "file_extension": ".py",
   "mimetype": "text/x-python",
   "name": "python",
   "nbconvert_exporter": "python",
   "pygments_lexer": "ipython3",
   "version": "3.6.6"
  },
  "toc": {
   "base_numbering": 1,
   "nav_menu": {},
   "number_sections": true,
   "sideBar": true,
   "skip_h1_title": false,
   "title_cell": "Table of Contents",
   "title_sidebar": "Contents",
   "toc_cell": true,
   "toc_position": {},
   "toc_section_display": true,
   "toc_window_display": false
  },
  "varInspector": {
   "cols": {
    "lenName": 16,
    "lenType": 16,
    "lenVar": 40
   },
   "kernels_config": {
    "python": {
     "delete_cmd_postfix": "",
     "delete_cmd_prefix": "del ",
     "library": "var_list.py",
     "varRefreshCmd": "print(var_dic_list())"
    },
    "r": {
     "delete_cmd_postfix": ") ",
     "delete_cmd_prefix": "rm(",
     "library": "var_list.r",
     "varRefreshCmd": "cat(var_dic_list()) "
    }
   },
   "types_to_exclude": [
    "module",
    "function",
    "builtin_function_or_method",
    "instance",
    "_Feature"
   ],
   "window_display": false
  }
 },
 "nbformat": 4,
 "nbformat_minor": 2
}
