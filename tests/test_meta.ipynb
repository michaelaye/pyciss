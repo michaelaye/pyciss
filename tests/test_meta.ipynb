{
 "cells": [
  {
   "cell_type": "code",
   "execution_count": 2,
   "metadata": {},
   "outputs": [],
   "source": [
    "from pyciss import meta"
   ]
  },
  {
   "cell_type": "code",
   "execution_count": 3,
   "metadata": {},
   "outputs": [],
   "source": [
    "# test_get_meta_df\n",
    "df = meta.get_meta_df()\n",
    "assert df.index[0] == \"N1467345444\"\n",
    "assert df.iloc[-1]['is_lit'] == False"
   ]
  },
  {
   "cell_type": "code",
   "execution_count": 4,
   "metadata": {},
   "outputs": [],
   "source": [
    "# test_get_order\n",
    "# This fishes out the resonance order from the identifier string\n",
    "# The order is defined as the delta between 1st and 2nd number.\n",
    "in_ = \"Mimas 4:1\"\n",
    "expected = 3\n",
    "assert meta.get_order(in_) == expected"
   ]
  },
  {
   "cell_type": "code",
   "execution_count": 5,
   "metadata": {},
   "outputs": [],
   "source": [
    "# test_get_resonances\n",
    "# test if the reading of resonance file works\n",
    "df = meta.get_resonances()\n",
    "assert df.iloc[0]['name'] == 'Titan 2:0'\n",
    "assert df.iloc[-1]['order'] == 3"
   ]
  },
  {
   "cell_type": "code",
   "execution_count": 6,
   "metadata": {
    "collapsed": true
   },
   "outputs": [],
   "source": [
    "# test_get_prime_resonances\n",
    "# test if this filters for prime resonances (order = 1)\n",
    "df = meta.get_prime_resonances()\n",
    "assert meta.get_order(df.iloc[0]['name']) == 1\n",
    "assert meta.get_order(df.iloc[-1]['name']) == 1"
   ]
  },
  {
   "cell_type": "code",
   "execution_count": 7,
   "metadata": {},
   "outputs": [],
   "source": [
    "# test_get_janus_epimetheus_resonances\n",
    "# read higher precision Janus and Epimetheus resonance file\n",
    "df = meta.get_janus_epimetheus_resonances()\n",
    "assert df.iloc[0]['name'] == 'Janus1 2:1'\n",
    "assert df.iloc[-1]['name'] == 'Epimetheus2 15:13'"
   ]
  },
  {
   "cell_type": "code",
   "execution_count": 8,
   "metadata": {},
   "outputs": [
    {
     "data": {
      "text/html": [
       "<div>\n",
       "<table border=\"1\" class=\"dataframe\">\n",
       "  <thead>\n",
       "    <tr style=\"text-align: right;\">\n",
       "      <th></th>\n",
       "      <th>moon</th>\n",
       "      <th>reson</th>\n",
       "      <th>radius</th>\n",
       "      <th>order</th>\n",
       "      <th>name</th>\n",
       "    </tr>\n",
       "  </thead>\n",
       "  <tbody>\n",
       "    <tr>\n",
       "      <th>0</th>\n",
       "      <td>Janus1</td>\n",
       "      <td>2:1</td>\n",
       "      <td>96235.150437</td>\n",
       "      <td>1</td>\n",
       "      <td>Janus1 2:1</td>\n",
       "    </tr>\n",
       "    <tr>\n",
       "      <th>1</th>\n",
       "      <td>Janus1</td>\n",
       "      <td>3:1</td>\n",
       "      <td>74051.968798</td>\n",
       "      <td>2</td>\n",
       "      <td>Janus1 3:1</td>\n",
       "    </tr>\n",
       "    <tr>\n",
       "      <th>2</th>\n",
       "      <td>Janus1</td>\n",
       "      <td>3:2</td>\n",
       "      <td>115943.966750</td>\n",
       "      <td>1</td>\n",
       "      <td>Janus1 3:2</td>\n",
       "    </tr>\n",
       "    <tr>\n",
       "      <th>3</th>\n",
       "      <td>Janus1</td>\n",
       "      <td>4:2</td>\n",
       "      <td>95979.967411</td>\n",
       "      <td>2</td>\n",
       "      <td>Janus1 4:2</td>\n",
       "    </tr>\n",
       "    <tr>\n",
       "      <th>4</th>\n",
       "      <td>Janus1</td>\n",
       "      <td>4:3</td>\n",
       "      <td>125250.859597</td>\n",
       "      <td>1</td>\n",
       "      <td>Janus1 4:3</td>\n",
       "    </tr>\n",
       "  </tbody>\n",
       "</table>\n",
       "</div>"
      ],
      "text/plain": [
       "     moon reson         radius  order        name\n",
       "0  Janus1   2:1   96235.150437      1  Janus1 2:1\n",
       "1  Janus1   3:1   74051.968798      2  Janus1 3:1\n",
       "2  Janus1   3:2  115943.966750      1  Janus1 3:2\n",
       "3  Janus1   4:2   95979.967411      2  Janus1 4:2\n",
       "4  Janus1   4:3  125250.859597      1  Janus1 4:3"
      ]
     },
     "execution_count": 8,
     "metadata": {},
     "output_type": "execute_result"
    }
   ],
   "source": [
    "df.head()"
   ]
  },
  {
   "cell_type": "code",
   "execution_count": 9,
   "metadata": {},
   "outputs": [],
   "source": [
    "# test_get_prime_jan_epi\n",
    "# read and filter for prime resonances of Janus and Epimetheus\n",
    "df = meta.get_prime_jan_epi()\n",
    "assert df.iloc[0]['name'] == 'Janus1 2:1'\n",
    "assert df.iloc[-1]['name'] == 'Epimetheus2 7:6'"
   ]
  },
  {
   "cell_type": "code",
   "execution_count": 10,
   "metadata": {
    "collapsed": true
   },
   "outputs": [],
   "source": [
    "# test_get_all_resonances\n",
    "# read all moon resonances and merge them into one\n",
    "df = meta.get_all_resonances()\n",
    "assert df.iloc[0]['name'] == 'Titan 1:0'\n",
    "assert df.iloc[-1]['name'] == 'Mimas 3:2'"
   ]
  },
  {
   "cell_type": "code",
   "execution_count": 11,
   "metadata": {
    "collapsed": true
   },
   "outputs": [],
   "source": [
    "import pkg_resources as pr"
   ]
  },
  {
   "cell_type": "code",
   "execution_count": 12,
   "metadata": {},
   "outputs": [
    {
     "data": {
      "text/plain": [
       "'/Users/klay6683/Dropbox/src/pyciss/pyciss/data/soliton_prediction_parameters.csv'"
      ]
     },
     "execution_count": 12,
     "metadata": {},
     "output_type": "execute_result"
    }
   ],
   "source": [
    "pr.resource_filename('pyciss', 'data/soliton_prediction_parameters.csv')"
   ]
  },
  {
   "cell_type": "code",
   "execution_count": null,
   "metadata": {
    "collapsed": true
   },
   "outputs": [],
   "source": []
  }
 ],
 "metadata": {
  "kernelspec": {
   "display_name": "Python [conda env:stable]",
   "language": "python",
   "name": "conda-env-stable-py"
  },
  "language_info": {
   "codemirror_mode": {
    "name": "ipython",
    "version": 3
   },
   "file_extension": ".py",
   "mimetype": "text/x-python",
   "name": "python",
   "nbconvert_exporter": "python",
   "pygments_lexer": "ipython3",
   "version": "3.5.2"
  }
 },
 "nbformat": 4,
 "nbformat_minor": 1
}
